{
  "nbformat": 4,
  "nbformat_minor": 0,
  "metadata": {
    "colab": {
      "provenance": [],
      "authorship_tag": "ABX9TyOnUGQpsLcfh05hj0b/3XCd",
      "include_colab_link": true
    },
    "kernelspec": {
      "name": "python3",
      "display_name": "Python 3"
    },
    "language_info": {
      "name": "python"
    }
  },
  "cells": [
    {
      "cell_type": "markdown",
      "metadata": {
        "id": "view-in-github",
        "colab_type": "text"
      },
      "source": [
        "<a href=\"https://colab.research.google.com/github/Yakovmano/fantastic-succotash/blob/main/%D7%AA%D7%A8%D7%92%D7%99%D7%9C%20%D7%91%D7%99%D7%AA%202.ipynb\" target=\"_parent\"><img src=\"https://colab.research.google.com/assets/colab-badge.svg\" alt=\"Open In Colab\"/></a>"
      ]
    },
    {
      "cell_type": "code",
      "execution_count": null,
      "metadata": {
        "id": "K8jHhKCpADME"
      },
      "outputs": [],
      "source": []
    },
    {
      "cell_type": "markdown",
      "source": [
        "**תרגיל בית 2 **\n",
        "\n",
        "---\n",
        "\n",
        "\n",
        "שאלה :1"
      ],
      "metadata": {
        "id": "f2UWYRnHLO7X"
      }
    },
    {
      "cell_type": "code",
      "source": [
        "MyNuber = 59.347\n",
        "print (MyNuber)\n",
        "integer_part, decimal_part = divmod(MyNuber, 1)\n",
        "print(\"חלק שלם:\", integer_part)\n",
        "print(\"חלק עשרוני:\", decimal_part)\n",
        "print (type(MyNuber))\n",
        "print(59**(1/3))"
      ],
      "metadata": {
        "colab": {
          "base_uri": "https://localhost:8080/"
        },
        "id": "YX4RlZ7cLd1g",
        "outputId": "4df181b0-bb43-43f5-c41d-e25bbfc4d75e"
      },
      "execution_count": 1,
      "outputs": [
        {
          "output_type": "stream",
          "name": "stdout",
          "text": [
            "59.347\n",
            "חלק שלם: 59.0\n",
            "חלק עשרוני: 0.3470000000000013\n",
            "<class 'float'>\n",
            "3.8929964158732604\n"
          ]
        }
      ]
    },
    {
      "cell_type": "code",
      "source": [],
      "metadata": {
        "id": "tULlxUoiLWSM"
      },
      "execution_count": null,
      "outputs": []
    },
    {
      "cell_type": "markdown",
      "source": [
        "**שאלה 2**"
      ],
      "metadata": {
        "id": "O_nkoDHXqKP5"
      }
    },
    {
      "cell_type": "code",
      "source": [
        "some_str =\"xZ%xxabycw\"\n",
        "print(some_str.count(\"a\"))\n",
        "print(len(some_str))\n",
        "if some_str[6] == 'b':\n",
        "    print(\"YES!\")\n",
        "if some_str[-2]  != 'c':\n",
        "    print(\"NO!\")\n",
        "last_three_chars = some_str[-3:]\n",
        "print(\"שלוש האותיות האחרונות:\", last_three_chars)\n",
        "if len(some_str) % 2 == 0:\n",
        "    print(\"אורך המחרוזת הוא זוגי\")\n",
        "else:\n",
        "    print(\"אורך המחרוזת הוא אי זוגי\")"
      ],
      "metadata": {
        "colab": {
          "base_uri": "https://localhost:8080/"
        },
        "id": "MKmSrLD3qSfl",
        "outputId": "337383a2-3332-4dbd-b075-43ba386e85ad"
      },
      "execution_count": 8,
      "outputs": [
        {
          "output_type": "stream",
          "name": "stdout",
          "text": [
            "1\n",
            "10\n",
            "YES!\n",
            "שלוש האותיות האחרונות: ycw\n",
            "אורך המחרוזת הוא זוגי\n"
          ]
        }
      ]
    },
    {
      "cell_type": "markdown",
      "source": [
        "**שאלה 3**"
      ],
      "metadata": {
        "id": "UIFdXiLEuqWi"
      }
    },
    {
      "cell_type": "code",
      "source": [
        "\n",
        "numbers = [5, 8.2, 3, 14, 7.6, 9]\n",
        "sum_numbers = sum(numbers)\n",
        "print(\"סכום המספרים ברשימה:\", sum_numbers)\n",
        "average = sum_numbers / len(numbers)\n",
        "print(\"ממוצע המספרים ברשימה:\", average)\n",
        "sorted_numbers = sorted(numbers, reverse=True)\n",
        "print(\"רשימה ממוינת מהגדול לקטן:\", sorted_numbers)\n",
        "tup_numbers = tuple(numbers)\n",
        "max_number = max(tup_numbers)\n",
        "print(\"המספר המקסימלי בטאפל:\", max_number)\n",
        "min_number = min(tup_numbers)\n",
        "print(\"המספר המינימלי בטאפל:\", min_number)\n",
        "count_numbers = len(numbers)\n",
        "print(\"מספר האובייקטים ברשימה:\", count_numbers)"
      ],
      "metadata": {
        "colab": {
          "base_uri": "https://localhost:8080/"
        },
        "id": "FeGrScH1uw3-",
        "outputId": "715ba713-8485-4314-ed5d-a8f33048ac07"
      },
      "execution_count": 9,
      "outputs": [
        {
          "output_type": "stream",
          "name": "stdout",
          "text": [
            "סכום המספרים ברשימה: 46.8\n",
            "ממוצע המספרים ברשימה: 7.8\n",
            "רשימה ממוינת מהגדול לקטן: [14, 9, 8.2, 7.6, 5, 3]\n",
            "המספר המקסימלי בטאפל: 14\n",
            "המספר המינימלי בטאפל: 3\n",
            "מספר האובייקטים ברשימה: 6\n"
          ]
        }
      ]
    },
    {
      "cell_type": "code",
      "source": [],
      "metadata": {
        "id": "nF-Ld74_vzgJ"
      },
      "execution_count": null,
      "outputs": []
    },
    {
      "cell_type": "markdown",
      "source": [
        "**שאלה 4**"
      ],
      "metadata": {
        "id": "esVhQ5PBv1EH"
      }
    },
    {
      "cell_type": "code",
      "source": [
        "\n",
        "fruits = [\"תפוח\", \"בננה\", \"אגס\", \"תות\", \"אבטיח\", \"מלון\", \"אננס\"]\n",
        "print(\"רשימת הפירות הראשונית:\", fruits)\n",
        "print(\"הפריט השני ברשימה:\", fruits[1])\n",
        "print(\"הפריט האחרון ברשימה:\", fruits[-1])\n",
        "print(\"הפריטים השלישי, הרביעי והחמישי ברשימה:\", fruits[2:5])\n",
        "print(\"ארבע הפריטים הראשונים ברשימה:\", fruits[:4])\n",
        "fruits.append(\"קיווי\")\n",
        "print(\"הרשימה לאחר הוספת פרי לסוף:\", fruits)\n",
        "fruits.insert(3, \"מנגו\")\n",
        "print(\"הרשימה לאחר הוספת פרי כפריט רביעי:\", fruits)\n",
        "del fruits[0]\n",
        "print(\"הרשימה לאחר מחיקת הפריט הראשון:\", fruits)\n",
        "fruits.reverse()\n",
        "print(\"הרשימה לאחר הפיכת סדר האיברים:\", fruits)"
      ],
      "metadata": {
        "colab": {
          "base_uri": "https://localhost:8080/"
        },
        "id": "dSFZERxMv5Wt",
        "outputId": "6613b120-d670-47cb-bee5-72aba0f138d5"
      },
      "execution_count": 12,
      "outputs": [
        {
          "output_type": "stream",
          "name": "stdout",
          "text": [
            "רשימת הפירות הראשונית: ['תפוח', 'בננה', 'אגס', 'תות', 'אבטיח', 'מלון', 'אננס']\n",
            "הפריט השני ברשימה: בננה\n",
            "הפריט האחרון ברשימה: אננס\n",
            "הפריטים השלישי, הרביעי והחמישי ברשימה: ['אגס', 'תות', 'אבטיח']\n",
            "ארבע הפריטים הראשונים ברשימה: ['תפוח', 'בננה', 'אגס', 'תות']\n",
            "הרשימה לאחר הוספת פרי לסוף: ['תפוח', 'בננה', 'אגס', 'תות', 'אבטיח', 'מלון', 'אננס', 'קיווי']\n",
            "הרשימה לאחר הוספת פרי כפריט רביעי: ['תפוח', 'בננה', 'אגס', 'מנגו', 'תות', 'אבטיח', 'מלון', 'אננס', 'קיווי']\n",
            "הרשימה לאחר מחיקת הפריט הראשון: ['בננה', 'אגס', 'מנגו', 'תות', 'אבטיח', 'מלון', 'אננס', 'קיווי']\n",
            "הרשימה לאחר הפיכת סדר האיברים: ['קיווי', 'אננס', 'מלון', 'אבטיח', 'תות', 'מנגו', 'אגס', 'בננה']\n"
          ]
        }
      ]
    },
    {
      "cell_type": "markdown",
      "source": [
        "**שאלה 5**"
      ],
      "metadata": {
        "id": "OX7akWSfwiJ4"
      }
    },
    {
      "cell_type": "code",
      "source": [
        "grade = float(input(\"אנא הכנס את ציון הסטודנט (בין 0 ל-100): \"))\n",
        "if grade < 60:\n",
        "    american_grade = \"F\"\n",
        "elif 60 <= grade < 70:\n",
        "    american_grade = \"C\"\n",
        "elif 70 <= grade < 80:\n",
        "    american_grade = \"B\"\n",
        "elif 80 <= grade <= 100:\n",
        "    american_grade = \"A\"\n",
        "else:\n",
        "    american_grade = \"ציון שגוי\"\n",
        "\n",
        "print(f\"הציון שהוקלד: {grade}\")\n",
        "print(f\"הציון האמריקאי המקביל: {american_grade}\")"
      ],
      "metadata": {
        "colab": {
          "base_uri": "https://localhost:8080/"
        },
        "id": "og3EzEnKwkg4",
        "outputId": "2bd185bc-9238-4768-cc87-4e9491d48214"
      },
      "execution_count": 13,
      "outputs": [
        {
          "output_type": "stream",
          "name": "stdout",
          "text": [
            "אנא הכנס את ציון הסטודנט (בין 0 ל-100): -0\n",
            "הציון שהוקלד: -0.0\n",
            "הציון האמריקאי המקביל: F\n"
          ]
        }
      ]
    }
  ]
}